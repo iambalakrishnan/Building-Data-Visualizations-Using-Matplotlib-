{
 "cells": [
  {
   "cell_type": "markdown",
   "id": "75c787ce",
   "metadata": {},
   "source": [
    "# Auto Correlation"
   ]
  },
  {
   "cell_type": "markdown",
   "id": "3b96cef3",
   "metadata": {},
   "source": [
    "Correlation : The measure of the relationship between two variables or items "
   ]
  },
  {
   "cell_type": "markdown",
   "id": "7d9133d8",
   "metadata": {},
   "source": [
    "Autocorrelation :: Measures the relationship between a variables's current value and past value or future value"
   ]
  },
  {
   "cell_type": "markdown",
   "id": "77106b79",
   "metadata": {},
   "source": [
    "<img src=\"auto correlation.png\" width=\"500\" height=\"200\" style=\"float:left\">"
   ]
  },
  {
   "cell_type": "markdown",
   "id": "7b7ed518",
   "metadata": {},
   "source": [
    "<img src=\"auto correlation1.png\" width=\"600\" height=\"300\" style=\"float:left\">"
   ]
  },
  {
   "cell_type": "markdown",
   "id": "7ef8a19d",
   "metadata": {},
   "source": [
    "<h5>The value of auto correlation ranges between -1 to +1</h5>\n",
    "\n",
    "+1 - Perfect positive correlation between the two time series <br>\n",
    "-1 - Perfect negative correlation or the datasets are not correlated at all "
   ]
  },
  {
   "cell_type": "markdown",
   "id": "f7f66869",
   "metadata": {},
   "source": [
    "<h2>Plotting Autocorrelations"
   ]
  },
  {
   "cell_type": "code",
   "execution_count": 2,
   "id": "437e351f",
   "metadata": {},
   "outputs": [],
   "source": [
    "import numpy as np\n",
    "import pandas as pd\n",
    "from matplotlib import pyplot as plt"
   ]
  },
  {
   "cell_type": "code",
   "execution_count": 4,
   "id": "6c1d1ea0",
   "metadata": {},
   "outputs": [
    {
     "data": {
      "text/html": [
       "<div>\n",
       "<style scoped>\n",
       "    .dataframe tbody tr th:only-of-type {\n",
       "        vertical-align: middle;\n",
       "    }\n",
       "\n",
       "    .dataframe tbody tr th {\n",
       "        vertical-align: top;\n",
       "    }\n",
       "\n",
       "    .dataframe thead th {\n",
       "        text-align: right;\n",
       "    }\n",
       "</style>\n",
       "<table border=\"1\" class=\"dataframe\">\n",
       "  <thead>\n",
       "    <tr style=\"text-align: right;\">\n",
       "      <th></th>\n",
       "      <th>Month</th>\n",
       "      <th>NumVisits</th>\n",
       "    </tr>\n",
       "  </thead>\n",
       "  <tbody>\n",
       "    <tr>\n",
       "      <th>0</th>\n",
       "      <td>2011-01</td>\n",
       "      <td>139029</td>\n",
       "    </tr>\n",
       "    <tr>\n",
       "      <th>1</th>\n",
       "      <td>2011-02</td>\n",
       "      <td>120726</td>\n",
       "    </tr>\n",
       "    <tr>\n",
       "      <th>2</th>\n",
       "      <td>2011-03</td>\n",
       "      <td>304583</td>\n",
       "    </tr>\n",
       "    <tr>\n",
       "      <th>3</th>\n",
       "      <td>2011-04</td>\n",
       "      <td>388363</td>\n",
       "    </tr>\n",
       "    <tr>\n",
       "      <th>4</th>\n",
       "      <td>2011-05</td>\n",
       "      <td>419569</td>\n",
       "    </tr>\n",
       "    <tr>\n",
       "      <th>5</th>\n",
       "      <td>2011-06</td>\n",
       "      <td>544089</td>\n",
       "    </tr>\n",
       "    <tr>\n",
       "      <th>6</th>\n",
       "      <td>2011-07</td>\n",
       "      <td>654871</td>\n",
       "    </tr>\n",
       "    <tr>\n",
       "      <th>7</th>\n",
       "      <td>2011-08</td>\n",
       "      <td>595265</td>\n",
       "    </tr>\n",
       "    <tr>\n",
       "      <th>8</th>\n",
       "      <td>2011-09</td>\n",
       "      <td>410636</td>\n",
       "    </tr>\n",
       "    <tr>\n",
       "      <th>9</th>\n",
       "      <td>2011-10</td>\n",
       "      <td>348203</td>\n",
       "    </tr>\n",
       "  </tbody>\n",
       "</table>\n",
       "</div>"
      ],
      "text/plain": [
       "     Month  NumVisits\n",
       "0  2011-01     139029\n",
       "1  2011-02     120726\n",
       "2  2011-03     304583\n",
       "3  2011-04     388363\n",
       "4  2011-05     419569\n",
       "5  2011-06     544089\n",
       "6  2011-07     654871\n",
       "7  2011-08     595265\n",
       "8  2011-09     410636\n",
       "9  2011-10     348203"
      ]
     },
     "execution_count": 4,
     "metadata": {},
     "output_type": "execute_result"
    }
   ],
   "source": [
    "grand_canyon_data = pd.read_csv('grand_canyon_visits.csv')\n",
    "grand_canyon_data.head(10)"
   ]
  },
  {
   "cell_type": "code",
   "execution_count": 6,
   "id": "17d88074",
   "metadata": {},
   "outputs": [
    {
     "data": {
      "text/plain": [
       "count        84.000000\n",
       "mean     426022.928571\n",
       "std      193415.223338\n",
       "min      120726.000000\n",
       "25%      252250.500000\n",
       "50%      417966.000000\n",
       "75%      580652.250000\n",
       "max      839086.000000\n",
       "Name: NumVisits, dtype: float64"
      ]
     },
     "execution_count": 6,
     "metadata": {},
     "output_type": "execute_result"
    }
   ],
   "source": [
    "grand_canyon_data['NumVisits'].describe()"
   ]
  },
  {
   "cell_type": "markdown",
   "id": "10198a13",
   "metadata": {},
   "source": [
    "When using the data for autocorrelation, large numbers may result in an overflow. To avoid this we devide the NumVisits value by 1000. This is common trick typically used when your data contains large numbers which might overflow during a mathematical operations."
   ]
  },
  {
   "cell_type": "code",
   "execution_count": 7,
   "id": "8556fa91",
   "metadata": {},
   "outputs": [
    {
     "data": {
      "text/plain": [
       "count     84.000000\n",
       "mean     426.022929\n",
       "std      193.415223\n",
       "min      120.726000\n",
       "25%      252.250500\n",
       "50%      417.966000\n",
       "75%      580.652250\n",
       "max      839.086000\n",
       "Name: NumVisits, dtype: float64"
      ]
     },
     "execution_count": 7,
     "metadata": {},
     "output_type": "execute_result"
    }
   ],
   "source": [
    "grand_canyon_data['NumVisits'] = grand_canyon_data['NumVisits']/1000\n",
    "grand_canyon_data['NumVisits'].describe()"
   ]
  },
  {
   "cell_type": "code",
   "execution_count": 9,
   "id": "5f96c510",
   "metadata": {},
   "outputs": [
    {
     "data": {
      "image/png": "[encoded data removed]",
      "text/plain": [
       "<Figure size 1152x576 with 1 Axes>"
      ]
     },
     "metadata": {
      "needs_background": "light"
     },
     "output_type": "display_data"
    }
   ],
   "source": [
    "#We plot the autocorrelation graph to see how the series correlates to itself with different lags\n",
    "\n",
    "plt.figure(figsize=(16,8))\n",
    "\n",
    "plt.acorr(grand_canyon_data['NumVisits'], maxlags=20)\n",
    "\n",
    "plt.show()"
   ]
  },
  {
   "cell_type": "code",
   "execution_count": 11,
   "id": "52c1c8b7",
   "metadata": {},
   "outputs": [
    {
     "name": "stdout",
     "output_type": "stream",
     "text": [
      "lags :  [-20 -19 -18 -17 -16 -15 -14 -13 -12 -11 -10  -9  -8  -7  -6  -5  -4  -3\n",
      "  -2  -1   0   1   2   3   4   5   6   7   8   9  10  11  12  13  14  15\n",
      "  16  17  18  19  20] \n",
      "\n",
      "c :  [0.56166264 0.54072849 0.5381979  0.57639987 0.63280631 0.69975398\n",
      " 0.76391559 0.81323426 0.84039608 0.8197005  0.77609889 0.72908631\n",
      " 0.68254819 0.65371235 0.6512621  0.69174525 0.75661649 0.8324754\n",
      " 0.90648833 0.96441788 1.         0.96441788 0.90648833 0.8324754\n",
      " 0.75661649 0.69174525 0.6512621  0.65371235 0.68254819 0.72908631\n",
      " 0.77609889 0.8197005  0.84039608 0.81323426 0.76391559 0.69975398\n",
      " 0.63280631 0.57639987 0.5381979  0.54072849 0.56166264] \n",
      "\n",
      "vlines :  <matplotlib.collections.LineCollection object at 0x7f6dd6a4a250> \n",
      "\n",
      "hlines :  Line2D(_line0) \n",
      "\n"
     ]
    },
    {
     "data": {
      "image/png": "[encoded data removed]",
      "text/plain": [
       "<Figure size 1152x576 with 1 Axes>"
      ]
     },
     "metadata": {
      "needs_background": "light"
     },
     "output_type": "display_data"
    }
   ],
   "source": [
    "#Autocorrelation has 4 different components\n",
    "\n",
    "plt.figure(figsize=(16,8))\n",
    "\n",
    "lags, c, vlines, hlines = plt.acorr(grand_canyon_data['NumVisits'], maxlags=20)\n",
    "\n",
    "print('lags : ', lags, '\\n')#40 lag lines ranging from -20 to +20\n",
    "print('c : ', c,'\\n')#Correlation value corresponding to each time lag at very center corresponding to time lag 0\n",
    "print('vlines : ', vlines, '\\n')#Vertival bars\n",
    "print('hlines : ', hlines, '\\n')#Horizontal bars\n",
    "\n",
    "\n",
    "plt.show()"
   ]
  },
  {
   "cell_type": "code",
   "execution_count": null,
   "id": "4b54a41f",
   "metadata": {},
   "outputs": [],
   "source": []
  }
 ],
 "metadata": {
  "kernelspec": {
   "display_name": "Python 3",
   "language": "python",
   "name": "python3"
  },
  "language_info": {
   "codemirror_mode": {
    "name": "ipython",
    "version": 3
   },
   "file_extension": ".py",
   "mimetype": "text/x-python",
   "name": "python",
   "nbconvert_exporter": "python",
   "pygments_lexer": "ipython3",
   "version": "3.8.10"
  }
 },
 "nbformat": 4,
 "nbformat_minor": 5
}
