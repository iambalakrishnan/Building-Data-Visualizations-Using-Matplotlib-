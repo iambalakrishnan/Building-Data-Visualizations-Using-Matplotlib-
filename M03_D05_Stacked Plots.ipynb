{
 "cells": [
  {
   "cell_type": "code",
   "execution_count": 1,
   "id": "b1ae521b",
   "metadata": {},
   "outputs": [],
   "source": [
    "import numpy as np\n",
    "import pandas as pd\n",
    "from matplotlib import pyplot as plt"
   ]
  },
  {
   "cell_type": "code",
   "execution_count": 2,
   "id": "6395f319",
   "metadata": {},
   "outputs": [
    {
     "data": {
      "text/html": [
       "<div>\n",
       "<style scoped>\n",
       "    .dataframe tbody tr th:only-of-type {\n",
       "        vertical-align: middle;\n",
       "    }\n",
       "\n",
       "    .dataframe tbody tr th {\n",
       "        vertical-align: top;\n",
       "    }\n",
       "\n",
       "    .dataframe thead th {\n",
       "        text-align: right;\n",
       "    }\n",
       "</style>\n",
       "<table border=\"1\" class=\"dataframe\">\n",
       "  <thead>\n",
       "    <tr style=\"text-align: right;\">\n",
       "      <th></th>\n",
       "      <th>Year</th>\n",
       "      <th>Badlands</th>\n",
       "      <th>GrandCanyon</th>\n",
       "      <th>BryceCanyon</th>\n",
       "    </tr>\n",
       "  </thead>\n",
       "  <tbody>\n",
       "    <tr>\n",
       "      <th>0</th>\n",
       "      <td>1961</td>\n",
       "      <td>833300</td>\n",
       "      <td>1253000</td>\n",
       "      <td>264800</td>\n",
       "    </tr>\n",
       "    <tr>\n",
       "      <th>1</th>\n",
       "      <td>1962</td>\n",
       "      <td>1044800</td>\n",
       "      <td>1447400</td>\n",
       "      <td>251000</td>\n",
       "    </tr>\n",
       "    <tr>\n",
       "      <th>2</th>\n",
       "      <td>1963</td>\n",
       "      <td>1074000</td>\n",
       "      <td>1539500</td>\n",
       "      <td>289500</td>\n",
       "    </tr>\n",
       "    <tr>\n",
       "      <th>3</th>\n",
       "      <td>1964</td>\n",
       "      <td>1079800</td>\n",
       "      <td>1576600</td>\n",
       "      <td>300300</td>\n",
       "    </tr>\n",
       "    <tr>\n",
       "      <th>4</th>\n",
       "      <td>1965</td>\n",
       "      <td>1091300</td>\n",
       "      <td>1689200</td>\n",
       "      <td>366800</td>\n",
       "    </tr>\n",
       "  </tbody>\n",
       "</table>\n",
       "</div>"
      ],
      "text/plain": [
       "   Year  Badlands  GrandCanyon  BryceCanyon\n",
       "0  1961    833300      1253000       264800\n",
       "1  1962   1044800      1447400       251000\n",
       "2  1963   1074000      1539500       289500\n",
       "3  1964   1079800      1576600       300300\n",
       "4  1965   1091300      1689200       366800"
      ]
     },
     "execution_count": 2,
     "metadata": {},
     "output_type": "execute_result"
    }
   ],
   "source": [
    "data = pd.read_csv('national_parks.csv')\n",
    "data.head()"
   ]
  },
  {
   "cell_type": "code",
   "execution_count": 3,
   "id": "a68ad435",
   "metadata": {},
   "outputs": [
    {
     "data": {
      "text/plain": [
       "(57, 4)"
      ]
     },
     "execution_count": 3,
     "metadata": {},
     "output_type": "execute_result"
    }
   ],
   "source": [
    "data.shape"
   ]
  },
  {
   "cell_type": "code",
   "execution_count": 4,
   "id": "249e8efe",
   "metadata": {},
   "outputs": [
    {
     "data": {
      "text/html": [
       "<div>\n",
       "<style scoped>\n",
       "    .dataframe tbody tr th:only-of-type {\n",
       "        vertical-align: middle;\n",
       "    }\n",
       "\n",
       "    .dataframe tbody tr th {\n",
       "        vertical-align: top;\n",
       "    }\n",
       "\n",
       "    .dataframe thead th {\n",
       "        text-align: right;\n",
       "    }\n",
       "</style>\n",
       "<table border=\"1\" class=\"dataframe\">\n",
       "  <thead>\n",
       "    <tr style=\"text-align: right;\">\n",
       "      <th></th>\n",
       "      <th>Year</th>\n",
       "      <th>Badlands</th>\n",
       "      <th>GrandCanyon</th>\n",
       "      <th>BryceCanyon</th>\n",
       "    </tr>\n",
       "  </thead>\n",
       "  <tbody>\n",
       "    <tr>\n",
       "      <th>count</th>\n",
       "      <td>57.000000</td>\n",
       "      <td>5.700000e+01</td>\n",
       "      <td>5.700000e+01</td>\n",
       "      <td>5.700000e+01</td>\n",
       "    </tr>\n",
       "    <tr>\n",
       "      <th>mean</th>\n",
       "      <td>1989.000000</td>\n",
       "      <td>1.069524e+06</td>\n",
       "      <td>3.412695e+06</td>\n",
       "      <td>8.408708e+05</td>\n",
       "    </tr>\n",
       "    <tr>\n",
       "      <th>std</th>\n",
       "      <td>16.598193</td>\n",
       "      <td>1.574500e+05</td>\n",
       "      <td>1.255127e+06</td>\n",
       "      <td>4.816281e+05</td>\n",
       "    </tr>\n",
       "    <tr>\n",
       "      <th>min</th>\n",
       "      <td>1961.000000</td>\n",
       "      <td>8.333000e+05</td>\n",
       "      <td>1.253000e+06</td>\n",
       "      <td>2.510000e+05</td>\n",
       "    </tr>\n",
       "    <tr>\n",
       "      <th>25%</th>\n",
       "      <td>1975.000000</td>\n",
       "      <td>9.502420e+05</td>\n",
       "      <td>2.258200e+06</td>\n",
       "      <td>4.715170e+05</td>\n",
       "    </tr>\n",
       "    <tr>\n",
       "      <th>50%</th>\n",
       "      <td>1989.000000</td>\n",
       "      <td>1.054325e+06</td>\n",
       "      <td>3.859886e+06</td>\n",
       "      <td>8.080450e+05</td>\n",
       "    </tr>\n",
       "    <tr>\n",
       "      <th>75%</th>\n",
       "      <td>2003.000000</td>\n",
       "      <td>1.188700e+06</td>\n",
       "      <td>4.401522e+06</td>\n",
       "      <td>1.081521e+06</td>\n",
       "    </tr>\n",
       "    <tr>\n",
       "      <th>max</th>\n",
       "      <td>2017.000000</td>\n",
       "      <td>1.518396e+06</td>\n",
       "      <td>6.254238e+06</td>\n",
       "      <td>2.571684e+06</td>\n",
       "    </tr>\n",
       "  </tbody>\n",
       "</table>\n",
       "</div>"
      ],
      "text/plain": [
       "              Year      Badlands   GrandCanyon   BryceCanyon\n",
       "count    57.000000  5.700000e+01  5.700000e+01  5.700000e+01\n",
       "mean   1989.000000  1.069524e+06  3.412695e+06  8.408708e+05\n",
       "std      16.598193  1.574500e+05  1.255127e+06  4.816281e+05\n",
       "min    1961.000000  8.333000e+05  1.253000e+06  2.510000e+05\n",
       "25%    1975.000000  9.502420e+05  2.258200e+06  4.715170e+05\n",
       "50%    1989.000000  1.054325e+06  3.859886e+06  8.080450e+05\n",
       "75%    2003.000000  1.188700e+06  4.401522e+06  1.081521e+06\n",
       "max    2017.000000  1.518396e+06  6.254238e+06  2.571684e+06"
      ]
     },
     "execution_count": 4,
     "metadata": {},
     "output_type": "execute_result"
    }
   ],
   "source": [
    "data.describe()"
   ]
  },
  {
   "cell_type": "markdown",
   "id": "f7429324",
   "metadata": {},
   "source": [
    "Use NumPy's vstack() method to create a verical stack - a 2D array with each series stacked on a top of each other "
   ]
  },
  {
   "cell_type": "code",
   "execution_count": 10,
   "id": "28adec7d",
   "metadata": {},
   "outputs": [],
   "source": [
    "x = data['Year']"
   ]
  },
  {
   "cell_type": "code",
   "execution_count": 5,
   "id": "adc5357b",
   "metadata": {},
   "outputs": [
    {
     "data": {
      "text/plain": [
       "array([[ 833300, 1044800, 1074000, 1079800, 1091300, 1094800, 1188700,\n",
       "        1194600, 1221300, 1303100, 1282000, 1274600, 1387900, 1205300,\n",
       "        1153200, 1210100, 1305400, 1234915,  858000,  952652, 1175952,\n",
       "        1030484, 1026981, 1113675,  950242, 1025630, 1174398, 1110040,\n",
       "        1237956, 1326475, 1518396, 1205297, 1179458, 1130459, 1075569,\n",
       "        1024705,  970696, 1021049,  950453, 1105824,  955469,  908898,\n",
       "         871034,  936030,  909146,  840118,  886654,  845734,  933918,\n",
       "         977778,  870741,  883406,  892372,  868094,  989354,  996263,\n",
       "        1054325],\n",
       "       [1253000, 1447400, 1539500, 1576600, 1689200, 1806000, 1804900,\n",
       "        1986300, 2192600, 2258200, 2402100, 2698300, 1909700, 1888600,\n",
       "        2625100, 2791600, 2627200, 2748642, 2131716, 2304973, 2472270,\n",
       "        2293127, 2248082, 2173584, 2711529, 3035787, 3513030, 3859886,\n",
       "        3966209, 3776685, 3886031, 4203545, 4575602, 4364316, 4557645,\n",
       "        4537703, 4791668, 4239682, 4575124, 4460228, 4104809, 4001974,\n",
       "        4124900, 4326234, 4401522, 4279439, 4413668, 4425314, 4348068,\n",
       "        4388386, 4298178, 4421352, 4564840, 4756771, 5520736, 5969811,\n",
       "        6254238],\n",
       "       [ 264800,  251000,  289500,  300300,  366800,  396600,  295000,\n",
       "         320800,  366900,  345900,  377800,  424830,  429700,  408800,\n",
       "         579200,  625600,  611500,  679260,  558095,  571541,  474092,\n",
       "         471517,  472633,  495104,  500782,  578018,  718342,  791348,\n",
       "         808045,  862659,  929067, 1018174, 1107951, 1028134,  994548,\n",
       "        1269600, 1174824, 1166331, 1081521, 1099275, 1068619,  886436,\n",
       "         903760,  987253, 1017681,  890676, 1012563, 1043321, 1216377,\n",
       "        1285492, 1296000, 1385352, 1311875, 1435741, 1745804, 2365110,\n",
       "        2571684]])"
      ]
     },
     "execution_count": 5,
     "metadata": {},
     "output_type": "execute_result"
    }
   ],
   "source": [
    "\n",
    "y = np.vstack([data['Badlands'], data['GrandCanyon'], data['BryceCanyon']])\n",
    "y #Each column data will be in the form of array stacked one on top of another"
   ]
  },
  {
   "cell_type": "code",
   "execution_count": 11,
   "id": "74c6719e",
   "metadata": {},
   "outputs": [],
   "source": [
    "#set up the labels associated with each  datasets in the form of list\n",
    "\n",
    "labels = ['Badlands','GrandCanyon','BryceCanyon']"
   ]
  },
  {
   "cell_type": "code",
   "execution_count": 12,
   "id": "97c7b2ae",
   "metadata": {},
   "outputs": [
    {
     "data": {
      "image/png": "[encoded data removed]",
      "text/plain": [
       "<Figure size 432x288 with 1 Axes>"
      ]
     },
     "metadata": {
      "needs_background": "light"
     },
     "output_type": "display_data"
    }
   ],
   "source": [
    "plt.stackplot(x, y, labels = labels)\n",
    "plt.legend(loc = 'upper left')\n",
    "plt.show()"
   ]
  },
  {
   "cell_type": "code",
   "execution_count": 14,
   "id": "e079382d",
   "metadata": {},
   "outputs": [
    {
     "data": {
      "image/png": "[encoded data removed]",
      "text/plain": [
       "<Figure size 432x288 with 1 Axes>"
      ]
     },
     "metadata": {
      "needs_background": "light"
     },
     "output_type": "display_data"
    }
   ],
   "source": [
    "# You can customize the colors \n",
    "\n",
    "colors = ['sandybrown','tomato','skyblue']\n",
    "\n",
    "plt.stackplot(x, y, labels = labels, colors=colors, edgecolor='black')\n",
    "plt.legend(loc = 'upper left')\n",
    "plt.show()"
   ]
  },
  {
   "cell_type": "markdown",
   "id": "69f0cb83",
   "metadata": {},
   "source": [
    "Modify the national parks data to show the difference in the number of visitors from the previous year "
   ]
  },
  {
   "cell_type": "code",
   "execution_count": 15,
   "id": "2cde2484",
   "metadata": {},
   "outputs": [
    {
     "data": {
      "text/html": [
       "<div>\n",
       "<style scoped>\n",
       "    .dataframe tbody tr th:only-of-type {\n",
       "        vertical-align: middle;\n",
       "    }\n",
       "\n",
       "    .dataframe tbody tr th {\n",
       "        vertical-align: top;\n",
       "    }\n",
       "\n",
       "    .dataframe thead th {\n",
       "        text-align: right;\n",
       "    }\n",
       "</style>\n",
       "<table border=\"1\" class=\"dataframe\">\n",
       "  <thead>\n",
       "    <tr style=\"text-align: right;\">\n",
       "      <th></th>\n",
       "      <th>Year</th>\n",
       "      <th>Badlands</th>\n",
       "      <th>GrandCanyon</th>\n",
       "      <th>BryceCanyon</th>\n",
       "    </tr>\n",
       "  </thead>\n",
       "  <tbody>\n",
       "    <tr>\n",
       "      <th>0</th>\n",
       "      <td>1961</td>\n",
       "      <td>NaN</td>\n",
       "      <td>NaN</td>\n",
       "      <td>NaN</td>\n",
       "    </tr>\n",
       "    <tr>\n",
       "      <th>1</th>\n",
       "      <td>1962</td>\n",
       "      <td>211500.0</td>\n",
       "      <td>194400.0</td>\n",
       "      <td>-13800.0</td>\n",
       "    </tr>\n",
       "    <tr>\n",
       "      <th>2</th>\n",
       "      <td>1963</td>\n",
       "      <td>29200.0</td>\n",
       "      <td>92100.0</td>\n",
       "      <td>38500.0</td>\n",
       "    </tr>\n",
       "    <tr>\n",
       "      <th>3</th>\n",
       "      <td>1964</td>\n",
       "      <td>5800.0</td>\n",
       "      <td>37100.0</td>\n",
       "      <td>10800.0</td>\n",
       "    </tr>\n",
       "    <tr>\n",
       "      <th>4</th>\n",
       "      <td>1965</td>\n",
       "      <td>11500.0</td>\n",
       "      <td>112600.0</td>\n",
       "      <td>66500.0</td>\n",
       "    </tr>\n",
       "  </tbody>\n",
       "</table>\n",
       "</div>"
      ],
      "text/plain": [
       "   Year  Badlands  GrandCanyon  BryceCanyon\n",
       "0  1961       NaN          NaN          NaN\n",
       "1  1962  211500.0     194400.0     -13800.0\n",
       "2  1963   29200.0      92100.0      38500.0\n",
       "3  1964    5800.0      37100.0      10800.0\n",
       "4  1965   11500.0     112600.0      66500.0"
      ]
     },
     "execution_count": 15,
     "metadata": {},
     "output_type": "execute_result"
    }
   ],
   "source": [
    "\n",
    "data[['Badlands','GrandCanyon','BryceCanyon']] = data[['Badlands','GrandCanyon','BryceCanyon']].diff()\n",
    "\n",
    "#The pandas dataframe's diff() fucntions gets the difference in value for each cell from the value in the previous row\n",
    " \n",
    "data.head()\n"
   ]
  },
  {
   "cell_type": "markdown",
   "id": "084565b5",
   "metadata": {},
   "source": [
    "The first record has all NaN value because there isn't a previous record for it to compute the difference."
   ]
  },
  {
   "cell_type": "markdown",
   "id": "a2fa9f11",
   "metadata": {},
   "source": [
    "<h2>Stem Plots"
   ]
  },
  {
   "cell_type": "markdown",
   "id": "93e9c345",
   "metadata": {},
   "source": [
    "<h5>Stem plots are a good way to analyze fluctuating data"
   ]
  },
  {
   "cell_type": "code",
   "execution_count": 17,
   "id": "205f2b7b",
   "metadata": {},
   "outputs": [
    {
     "data": {
      "image/png": "[encoded data removed]",
      "text/plain": [
       "<Figure size 720x432 with 1 Axes>"
      ]
     },
     "metadata": {
      "needs_background": "light"
     },
     "output_type": "display_data"
    }
   ],
   "source": [
    "plt.figure(figsize=(10,6))\n",
    "\n",
    "plt.stem(data['Year'], data['Badlands'])\n",
    "plt.title('Change in Number of Visitors')\n",
    "\n",
    "plt.show()"
   ]
  },
  {
   "cell_type": "markdown",
   "id": "e8277ced",
   "metadata": {},
   "source": [
    "The setm go up for positive deltas and goes down for negative deltas"
   ]
  },
  {
   "cell_type": "code",
   "execution_count": null,
   "id": "d6f5291d",
   "metadata": {},
   "outputs": [],
   "source": []
  }
 ],
 "metadata": {
  "kernelspec": {
   "display_name": "Python 3",
   "language": "python",
   "name": "python3"
  },
  "language_info": {
   "codemirror_mode": {
    "name": "ipython",
    "version": 3
   },
   "file_extension": ".py",
   "mimetype": "text/x-python",
   "name": "python",
   "nbconvert_exporter": "python",
   "pygments_lexer": "ipython3",
   "version": "3.8.10"
  }
 },
 "nbformat": 4,
 "nbformat_minor": 5
}
